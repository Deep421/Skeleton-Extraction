{
 "cells": [
  {
   "cell_type": "code",
   "execution_count": null,
   "id": "f2adfa96",
   "metadata": {},
   "outputs": [],
   "source": [
    "import cv2\n",
    "import numpy as np\n",
    "import mediapipe as mp\n",
    "\n",
    "mp_drawings = mp.solutions.drawing_utils\n",
    "mp_pose = mp.solutions.pose\n",
    "\n",
    "cap = cv2.VideoCapture(0)\n",
    "with mp_pose.Pose(min_detection_confidence=0.5, min_tracking_confidence=0.5) as pose:\n",
    "\n",
    "    while True:\n",
    "        ret, frame = cap.read()\n",
    "\n",
    "        if not ret:\n",
    "            break\n",
    "            \n",
    "        frame_rgb = cv2.cvtColor(frame, cv2.COLOR_BGR2RGB)\n",
    "        results = pose.process(frame_rgb)\n",
    "        frame_bgr = cv2.cvtColor(frame_rgb, cv2.COLOR_RGB2BGR)\n",
    "        \n",
    "        if results.pose_landmarks:\n",
    "            # Draw landmarks on the original frame\n",
    "            mp_drawings.draw_landmarks(frame_bgr, results.pose_landmarks, mp_pose.POSE_CONNECTIONS, \n",
    "                                       mp_drawings.DrawingSpec(color=(245, 117, 66), thickness=2, circle_radius=4),\n",
    "                                       mp_drawings.DrawingSpec(color=(245, 66, 230), thickness=2, circle_radius=2))\n",
    "\n",
    "            # Create a blank white image\n",
    "            h, w, c = frame_bgr.shape\n",
    "            newimg = np.ones([h, w, c], dtype=np.uint8) * 255\n",
    "            \n",
    "            # Draw landmarks on the blank image\n",
    "            mp_drawings.draw_landmarks(newimg, results.pose_landmarks, mp_pose.POSE_CONNECTIONS,\n",
    "                                       mp_drawings.DrawingSpec(color=(245, 117, 66), thickness=2, circle_radius=4),\n",
    "                                       mp_drawings.DrawingSpec(color=(245, 66, 230), thickness=2, circle_radius=2))\n",
    "\n",
    "            cv2.imshow('new', newimg)\n",
    "\n",
    "        cv2.imshow('result', frame_bgr)\n",
    "    \n",
    "        if cv2.waitKey(1) == ord('q'):\n",
    "            break\n",
    "        \n",
    "cap.release()\n",
    "cv2.destroyAllWindows()\n"
   ]
  }
 ],
 "metadata": {
  "kernelspec": {
   "display_name": "Python 3 (ipykernel)",
   "language": "python",
   "name": "python3"
  },
  "language_info": {
   "codemirror_mode": {
    "name": "ipython",
    "version": 3
   },
   "file_extension": ".py",
   "mimetype": "text/x-python",
   "name": "python",
   "nbconvert_exporter": "python",
   "pygments_lexer": "ipython3",
   "version": "3.9.12"
  }
 },
 "nbformat": 4,
 "nbformat_minor": 5
}
